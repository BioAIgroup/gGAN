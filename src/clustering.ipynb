{
 "cells": [
  {
   "cell_type": "code",
   "execution_count": 1,
   "metadata": {},
   "outputs": [],
   "source": [
    "import numpy as np\n",
    "from scipy.cluster.hierarchy import linkage, cophenet, dendrogram\n",
    "from sklearn.metrics import silhouette_score\n",
    "from utils import *\n",
    "from data_pipeline import load_data, split_replicates\n",
    "import matplotlib.pyplot as plt\n",
    "import seaborn as sns\n",
    "from clustering import *"
   ]
  },
  {
   "cell_type": "code",
   "execution_count": 2,
   "metadata": {},
   "outputs": [
    {
     "name": "stdout",
     "output_type": "stream",
     "text": [
      "Found 4297 genes in datafile\n",
      "Found 1208 genes in CRP regulatory network\n",
      "Warning: Gene acrz not in gene list\n",
      "Warning: Gene alaa not in gene list\n",
      "Warning: Gene alae not in gene list\n",
      "Warning: Gene alat not in gene list\n",
      "Warning: Gene alau not in gene list\n",
      "Warning: Gene alav not in gene list\n",
      "Warning: Gene alaw not in gene list\n",
      "Warning: Gene alax not in gene list\n",
      "Warning: Gene appx not in gene list\n",
      "Warning: Gene arcz not in gene list\n",
      "Warning: Gene arfb not in gene list\n",
      "Warning: Gene aspv not in gene list\n",
      "Warning: Gene azuc not in gene list\n",
      "Warning: Gene btst not in gene list\n",
      "Warning: Gene cas1 not in gene list\n",
      "Warning: Gene cas2 not in gene list\n",
      "Warning: Gene casa not in gene list\n",
      "Warning: Gene casb not in gene list\n",
      "Warning: Gene casc not in gene list\n",
      "Warning: Gene casd not in gene list\n",
      "Warning: Gene case not in gene list\n",
      "Warning: Gene ccp not in gene list\n",
      "Warning: Gene chip not in gene list\n",
      "Warning: Gene chiq not in gene list\n",
      "Warning: Gene comr not in gene list\n",
      "Warning: Gene crl_1 not in gene list\n",
      "Warning: Gene decr not in gene list\n",
      "Warning: Gene dgcc not in gene list\n",
      "Warning: Gene dgcn not in gene list\n",
      "Warning: Gene dtpa not in gene list\n",
      "Warning: Gene enth not in gene list\n",
      "Warning: Gene fau not in gene list\n",
      "Warning: Gene fnrs not in gene list\n",
      "Warning: Gene gadf not in gene list\n",
      "Warning: Gene glce not in gene list\n",
      "Warning: Gene glnu not in gene list\n",
      "Warning: Gene glnv not in gene list\n",
      "Warning: Gene glnw not in gene list\n",
      "Warning: Gene glnx not in gene list\n",
      "Warning: Gene glsa not in gene list\n",
      "Warning: Gene gltt not in gene list\n",
      "Warning: Gene gltu not in gene list\n",
      "Warning: Gene gltv not in gene list\n",
      "Warning: Gene gltw not in gene list\n",
      "Warning: Gene grca not in gene list\n",
      "Warning: Gene ibag not in gene list\n",
      "Warning: Gene idlp not in gene list\n",
      "Warning: Gene ilet not in gene list\n",
      "Warning: Gene ileu not in gene list\n",
      "Warning: Gene ilev not in gene list\n",
      "Warning: Gene ilvg_1 not in gene list\n",
      "Warning: Gene ilvg_2 not in gene list\n",
      "Warning: Gene ilvx not in gene list\n",
      "Warning: Gene irad not in gene list\n",
      "Warning: Gene iram not in gene list\n",
      "Warning: Gene ldtb not in gene list\n",
      "Warning: Gene leuq not in gene list\n",
      "Warning: Gene leut not in gene list\n",
      "Warning: Gene leuv not in gene list\n",
      "Warning: Gene lgor not in gene list\n",
      "Warning: Gene lhgo not in gene list\n",
      "Warning: Gene lyst not in gene list\n",
      "Warning: Gene lysv not in gene list\n",
      "Warning: Gene lysw not in gene list\n",
      "Warning: Gene lyxk not in gene list\n",
      "Warning: Gene maze not in gene list\n",
      "Warning: Gene mazf not in gene list\n",
      "Warning: Gene mcas not in gene list\n",
      "Warning: Gene mett not in gene list\n",
      "Warning: Gene metu not in gene list\n",
      "Warning: Gene mlab not in gene list\n",
      "Warning: Gene mlac not in gene list\n",
      "Warning: Gene mlad not in gene list\n",
      "Warning: Gene mlae not in gene list\n",
      "Warning: Gene mlaf not in gene list\n",
      "Warning: Gene mlc not in gene list\n",
      "Warning: Gene mntp not in gene list\n",
      "Warning: Gene nans not in gene list\n",
      "Warning: Gene noha not in gene list\n",
      "Warning: Gene paaz not in gene list\n",
      "Warning: Gene pata not in gene list\n",
      "Warning: Gene patd not in gene list\n",
      "Warning: Gene patz not in gene list\n",
      "Warning: Gene pdef not in gene list\n",
      "Warning: Gene pder not in gene list\n",
      "Warning: Gene pheu not in gene list\n",
      "Warning: Gene phev not in gene list\n",
      "Warning: Gene pqic not in gene list\n",
      "Warning: Gene prea not in gene list\n",
      "Warning: Gene pret not in gene list\n",
      "Warning: Gene rcnb not in gene list\n",
      "Warning: Gene rimp not in gene list\n",
      "Warning: Gene rrfb not in gene list\n",
      "Warning: Gene rrfc not in gene list\n",
      "Warning: Gene rrfd not in gene list\n",
      "Warning: Gene rrfe not in gene list\n",
      "Warning: Gene rrff not in gene list\n",
      "Warning: Gene rrfg not in gene list\n",
      "Warning: Gene rrfh not in gene list\n",
      "Warning: Gene rrlb not in gene list\n",
      "Warning: Gene rrlc not in gene list\n",
      "Warning: Gene rrld not in gene list\n",
      "Warning: Gene rrle not in gene list\n",
      "Warning: Gene rrlg not in gene list\n",
      "Warning: Gene rrlh not in gene list\n",
      "Warning: Gene rrsa not in gene list\n",
      "Warning: Gene rrsb not in gene list\n",
      "Warning: Gene rrsd not in gene list\n",
      "Warning: Gene rrse not in gene list\n",
      "Warning: Gene rsed not in gene list\n",
      "Warning: Gene rsma not in gene list\n",
      "Warning: Gene rsmh not in gene list\n",
      "Warning: Gene serx not in gene list\n",
      "Warning: Gene srod not in gene list\n",
      "Warning: Gene tcyj not in gene list\n",
      "Warning: Gene tfaq not in gene list\n",
      "Warning: Gene tpr not in gene list\n",
      "Warning: Gene tufb not in gene list\n",
      "Warning: Gene tyrt not in gene list\n",
      "Warning: Gene tyrv not in gene list\n",
      "Warning: Gene umph not in gene list\n",
      "Warning: Gene valt not in gene list\n",
      "Warning: Gene valu not in gene list\n",
      "Warning: Gene valx not in gene list\n",
      "Warning: Gene valy not in gene list\n",
      "Warning: Gene waay not in gene list\n",
      "Warning: Gene waaz not in gene list\n",
      "Warning: Gene ygia not in gene list\n",
      "Warning: Gene yhgh not in gene list\n",
      "Warning: Gene ykgr not in gene list\n",
      "Warning: Gene ymia not in gene list\n",
      "Warning: Gene zint not in gene list\n",
      "Selecting 1076 genes ...\n"
     ]
    }
   ],
   "source": [
    "expr, gene_symbols, sample_names = load_data()"
   ]
  },
  {
   "cell_type": "markdown",
   "metadata": {},
   "source": [
    "# Hierarchical clustering on full expression matrix"
   ]
  },
  {
   "cell_type": "code",
   "execution_count": 3,
   "metadata": {},
   "outputs": [
    {
     "name": "stdout",
     "output_type": "stream",
     "text": [
      "Cophenetic coefficient full dendrogram wrt. the original distance matrix: 0.5113830602702356\n"
     ]
    }
   ],
   "source": [
    "# Perform hierarchical clustering on full expression matrix\n",
    "l_matrix = hierarchical_clustering(expr)\n",
    "y = 1 - correlations_list(expr, expr)\n",
    "c, d = cophenet(l_matrix, y)\n",
    "print('Cophenetic coefficient full dendrogram wrt. the original distance matrix: {}'.format(c))"
   ]
  },
  {
   "cell_type": "code",
   "execution_count": 4,
   "metadata": {},
   "outputs": [
    {
     "data": {
      "image/png": "[encoded data removed]",
      "text/plain": [
       "<matplotlib.figure.Figure at 0x10c62de10>"
      ]
     },
     "metadata": {},
     "output_type": "display_data"
    }
   ],
   "source": [
    "plt.figure(figsize=(18, 8))\n",
    "dendrogram(l_matrix, p=5, truncate_mode='level');"
   ]
  },
  {
   "cell_type": "markdown",
   "metadata": {},
   "source": [
    "# Hierarchical clustering on full expression matrix"
   ]
  },
  {
   "cell_type": "code",
   "execution_count": 5,
   "metadata": {},
   "outputs": [
    {
     "name": "stdout",
     "output_type": "stream",
     "text": [
      "Set lengths: 441 and 466\n",
      "Gamma(D^X, D^Z): 0.9018159189602594\n",
      "Gamma(D^X, T^X): 0.5290587407138223\n",
      "Gamma(D^Z, T^Z): 0.5357956707711304\n",
      "Gamma(T^X, T^Z): 0.4291850533362623\n"
     ]
    }
   ],
   "source": [
    "idxs1, idxs2 = split_replicates(sample_names)\n",
    "print('Set lengths: {} and {}'.format(len(idxs1), len(idxs2)))\n",
    "\n",
    "gamma_dx_dz, gamma_dx_tx, gamma_dz_tz, gamma_tx_tz = gamma_coefficients(expr[idxs1, :], expr[idxs2, :])\n",
    "print('Gamma(D^X, D^Z): {}'.format(gamma_dx_dz))\n",
    "print('Gamma(D^X, T^X): {}'.format(gamma_dx_tx))\n",
    "print('Gamma(D^Z, T^Z): {}'.format(gamma_dz_tz))\n",
    "print('Gamma(T^X, T^Z): {}'.format(gamma_tx_tz))"
   ]
  },
  {
   "cell_type": "markdown",
   "metadata": {},
   "source": [
    "# Silhouette histogram for full dendrogram"
   ]
  },
  {
   "cell_type": "code",
   "execution_count": 9,
   "metadata": {},
   "outputs": [
    {
     "data": {
      "image/png": "[encoded data removed]",
      "text/plain": [
       "<matplotlib.figure.Figure at 0x1088a9a20>"
      ]
     },
     "metadata": {},
     "output_type": "display_data"
    }
   ],
   "source": [
    "l_matrix = hierarchical_clustering(expr)\n",
    "silhouettes = compute_silhouette(expr, l_matrix)\n",
    "sns.distplot(silhouettes);"
   ]
  },
  {
   "cell_type": "markdown",
   "metadata": {},
   "source": [
    "# Silhouette histogram for full dendrogram"
   ]
  },
  {
   "cell_type": "code",
   "execution_count": 10,
   "metadata": {},
   "outputs": [
    {
     "data": {
      "image/png": "[encoded data removed]",
      "text/plain": [
       "<matplotlib.figure.Figure at 0x10c61db70>"
      ]
     },
     "metadata": {},
     "output_type": "display_data"
    }
   ],
   "source": [
    "random_noise = np.random.uniform(4, 14, expr.shape)\n",
    "l_matrix_rand = hierarchical_clustering(random_noise)\n",
    "silhouettes_rand = compute_silhouette(random_noise, l_matrix_rand)\n",
    "sns.distplot(silhouettes_rand);"
   ]
  },
  {
   "cell_type": "markdown",
   "metadata": {},
   "source": [
    "# Example motivating the dendrogram distance metric"
   ]
  },
  {
   "cell_type": "code",
   "execution_count": 11,
   "metadata": {},
   "outputs": [
    {
     "name": "stdout",
     "output_type": "stream",
     "text": [
      "Distance matrices Pearson correlation: 0.9736842105263159\n",
      "Dendrogram distance: -0.5\n"
     ]
    }
   ],
   "source": [
    "q = 10\n",
    "dx = np.array([[1, 2, q], [2, 1, 3], [q, 3, 1.0]])\n",
    "dz = np.array([[1, 3, q], [3, 1, 2], [q, 2, 1.0]])\n",
    "dx_ = upper_diag_list(dx)\n",
    "dz_ = upper_diag_list(dz)\n",
    "print('Distance matrices Pearson correlation: {}'.format(pearson_correlation(dx_, dz_)))\n",
    "lx = linkage(dx_, 'complete')\n",
    "lz = linkage(dz_, 'complete')\n",
    "print('Dendrogram distance: {}'.format(compare_cophenetic(lx, lz)))"
   ]
  },
  {
   "cell_type": "code",
   "execution_count": 12,
   "metadata": {},
   "outputs": [
    {
     "data": {
      "image/png": "[encoded data removed]",
      "text/plain": [
       "<matplotlib.figure.Figure at 0x10bcc7438>"
      ]
     },
     "metadata": {},
     "output_type": "display_data"
    }
   ],
   "source": [
    "dendrogram(lx);"
   ]
  },
  {
   "cell_type": "code",
   "execution_count": 13,
   "metadata": {},
   "outputs": [
    {
     "data": {
      "image/png": "[encoded data removed]",
      "text/plain": [
       "<matplotlib.figure.Figure at 0x10c602c88>"
      ]
     },
     "metadata": {},
     "output_type": "display_data"
    }
   ],
   "source": [
    "dendrogram(lz);"
   ]
  },
  {
   "cell_type": "code",
   "execution_count": null,
   "metadata": {},
   "outputs": [],
   "source": []
  }
 ],
 "metadata": {
  "kernelspec": {
   "display_name": "Python 3",
   "language": "python",
   "name": "python3"
  },
  "language_info": {
   "codemirror_mode": {
    "name": "ipython",
    "version": 3
   },
   "file_extension": ".py",
   "mimetype": "text/x-python",
   "name": "python",
   "nbconvert_exporter": "python",
   "pygments_lexer": "ipython3",
   "version": "3.6.4"
  }
 },
 "nbformat": 4,
 "nbformat_minor": 2
}
